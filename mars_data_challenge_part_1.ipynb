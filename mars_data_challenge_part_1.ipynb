{
 "cells": [
  {
   "cell_type": "code",
   "execution_count": 1,
   "id": "5dadf433",
   "metadata": {},
   "outputs": [],
   "source": [
    "#import Splinter and BeautifulSoup\n",
    "from splinter import Browser\n",
    "from bs4 import BeautifulSoup as soup\n",
    "from webdriver_manager.chrome import ChromeDriverManager\n",
    "\n",
    "#set exec path\n",
    "executable_path = {\"executable_path\": ChromeDriverManager().install()}\n",
    "browser = Browser(\"chrome\", **executable_path, headless=False)"
   ]
  },
  {
   "cell_type": "code",
   "execution_count": 2,
   "id": "b7c05293",
   "metadata": {},
   "outputs": [
    {
     "data": {
      "text/plain": [
       "True"
      ]
     },
     "execution_count": 2,
     "metadata": {},
     "output_type": "execute_result"
    }
   ],
   "source": [
    "#visit the Mars NASA news site\n",
    "url = \"https://redplanetscience.com\"\n",
    "browser.visit(url)\n",
    "\n",
    "#optional delay for loading the page\n",
    "browser.is_element_present_by_css(\"div.list_text\", wait_time=1)"
   ]
  },
  {
   "cell_type": "code",
   "execution_count": 3,
   "id": "4c0316d9",
   "metadata": {},
   "outputs": [],
   "source": [
    "#adding html parser\n",
    "html = browser.html\n",
    "news_soup = soup(html, \"html.parser\")\n",
    "slide_elem = news_soup.find_all(\"div\", class_=\"list_text\")"
   ]
  },
  {
   "cell_type": "code",
   "execution_count": 4,
   "id": "f20880a2",
   "metadata": {},
   "outputs": [],
   "source": [
    "#initialise list\n",
    "article_list = []\n",
    "\n",
    "#loop through all articles\n",
    "for elem in slide_elem:\n",
    "    title = elem.find(\"div\", class_=\"content_title\").get_text()\n",
    "    prev_text = elem.find(\"div\", class_=\"article_teaser_body\").text\n",
    "    article_list.append({\"Title\": title, \"Preview\": prev_text})\n",
    "\n",
    "\n",
    "#get and store article title\n",
    "#title = slide_elem.find(\"div\", class_=\"content_title\").get_text()\n",
    "#print(title)\n",
    "#get preview text\n",
    "#prev_text = slide_elem.find(\"div\", class_=\"article_teaser_body\").text\n",
    "#print(prev_text)"
   ]
  },
  {
   "cell_type": "code",
   "execution_count": 5,
   "id": "1d801828",
   "metadata": {},
   "outputs": [
    {
     "name": "stdout",
     "output_type": "stream",
     "text": [
      "[{'Title': \"Curiosity Mars Rover's Summer Road Trip Has Begun\", 'Preview': 'After more than a year in the \"clay-bearing unit,\" Curiosity is making a mile-long journey around some deep sand so that it can explore higher up Mount Sharp.'}, {'Title': \"NASA's Briefcase-Size MarCO Satellite Picks Up Honors\", 'Preview': 'The twin spacecraft, the first of their kind to fly into deep space, earn a Laureate from Aviation Week & Space Technology.'}, {'Title': \"NASA's Perseverance Rover Will Peer Beneath Mars' Surface \", 'Preview': \"The agency's newest rover will use the first ground-penetrating radar instrument on the Martian surface to help search for signs of past microbial life. \"}, {'Title': \"NASA's InSight 'Hears' Peculiar Sounds on Mars\", 'Preview': 'Listen to the marsquakes and other, less-expected sounds that the Mars lander has been detecting.'}, {'Title': \"NASA's New Mars Rover Is Ready for Space Lasers\", 'Preview': 'Perseverance is one of a few Mars spacecraft carrying laser retroreflectors. The devices could provide new science and safer Mars landings in the future.'}, {'Title': \"3 Things We've Learned From NASA's Mars InSight \", 'Preview': 'Scientists are finding new mysteries since the geophysics mission landed two years ago.'}, {'Title': \"A New Video Captures the Science of NASA's Perseverance Mars Rover\", 'Preview': 'With a targeted launch date of July 30, the next robotic scientist NASA is sending to the to the Red Planet has big ambitions.'}, {'Title': 'NASA, ULA Launch Mars 2020 Perseverance Rover Mission to Red Planet', 'Preview': \"The agency's Mars 2020 mission is on its way. It will land at Jezero Crater in about seven months, on Feb. 18, 2021. \"}, {'Title': \"NASA's Perseverance Rover Will Carry First Spacesuit Materials to Mars\", 'Preview': 'In a Q&A, spacesuit designer Amy Ross explains how five samples, including a piece of helmet visor, will be tested aboard the rover, which is targeting a July 30 launch. '}, {'Title': \"NASA's Mars Rover Drivers Need Your Help\", 'Preview': 'Using an online tool to label Martian terrain types, you can train an artificial intelligence algorithm that could improve the way engineers guide the Curiosity rover.'}, {'Title': \"NASA's Perseverance Rover Attached to Atlas V Rocket\", 'Preview': 'Ready for its launch later in the month, the Mars-bound rover will touch terra firma no more.'}, {'Title': 'NASA to Broadcast Mars 2020 Perseverance Launch, Prelaunch Activities', 'Preview': 'Starting July 27, news activities will cover everything from mission engineering and science to returning samples from Mars to, of course, the launch itself.'}, {'Title': 'Global Storms on Mars Launch Dust Towers Into the Sky', 'Preview': 'A Mars Dust Tower Stands Out Dust storms are common on Mars. But every decade or so, something unpredictable happens: a series of runaway storms break out, covering the entire planet in a dusty haze.'}, {'Title': \"Mars Helicopter Attached to NASA's Perseverance Rover\", 'Preview': \"The team also fueled the rover's sky crane to get ready for this summer's history-making launch.\"}, {'Title': \"How NASA's Mars Helicopter Will Reach the Red Planet's Surface\", 'Preview': 'The small craft will seek to prove that powered, controlled flight is possible on another planet. But just getting it onto the surface of Mars will take a whole lot of ingenuity.'}]\n"
     ]
    }
   ],
   "source": [
    "#check list\n",
    "print(article_list)"
   ]
  },
  {
   "cell_type": "code",
   "execution_count": 6,
   "id": "15313121",
   "metadata": {},
   "outputs": [],
   "source": [
    "#exit browser\n",
    "browser.quit()"
   ]
  }
 ],
 "metadata": {
  "kernelspec": {
   "display_name": "Python 3 (ipykernel)",
   "language": "python",
   "name": "python3"
  },
  "language_info": {
   "codemirror_mode": {
    "name": "ipython",
    "version": 3
   },
   "file_extension": ".py",
   "mimetype": "text/x-python",
   "name": "python",
   "nbconvert_exporter": "python",
   "pygments_lexer": "ipython3",
   "version": "3.9.12"
  }
 },
 "nbformat": 4,
 "nbformat_minor": 5
}
